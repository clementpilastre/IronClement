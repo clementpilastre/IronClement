{
 "cells": [
  {
   "cell_type": "markdown",
   "id": "b1563c4b",
   "metadata": {},
   "source": [
    "Kata #1 Remove All The Marked Elements of a List\n",
    "    "
   ]
  },
  {
   "cell_type": "code",
   "execution_count": null,
   "id": "188c12f0",
   "metadata": {},
   "outputs": [],
   "source": [
    "class List:\n",
    "    def remove_(self, integer_list, values_list):\n",
    "        return [i for i in integer_list if i not in values_list]"
   ]
  },
  {
   "cell_type": "code",
   "execution_count": null,
   "id": "e57ca35d",
   "metadata": {},
   "outputs": [],
   "source": []
  },
  {
   "cell_type": "markdown",
   "id": "3a237a93",
   "metadata": {},
   "source": [
    "Kata #2 Method For Counting Total Occurence Of Specific Digits"
   ]
  },
  {
   "cell_type": "code",
   "execution_count": null,
   "id": "05b1bd1a",
   "metadata": {},
   "outputs": [],
   "source": [
    "class List(object):\n",
    "    @staticmethod\n",
    "    def count_spec_digits(integers_list, digits_list):\n",
    "        result = []\n",
    "        str_list = ''.join(str(i) for i in integers_list)\n",
    "        for digit in digits_list:\n",
    "            result.append((digit, str_list.count(str(digit))))\n",
    "        return result\n",
    "\n"
   ]
  },
  {
   "cell_type": "code",
   "execution_count": null,
   "id": "78216970",
   "metadata": {},
   "outputs": [],
   "source": []
  },
  {
   "cell_type": "markdown",
   "id": "50cc8032",
   "metadata": {},
   "source": [
    "Kata #3 Ordered Count of Characters"
   ]
  },
  {
   "cell_type": "code",
   "execution_count": 8,
   "id": "1b572dcf",
   "metadata": {},
   "outputs": [],
   "source": [
    "from collections import Counter\n",
    "\n",
    "def ordered_count(input):\n",
    "    return list(Counter(input).items())"
   ]
  },
  {
   "cell_type": "code",
   "execution_count": null,
   "id": "b18638d6",
   "metadata": {},
   "outputs": [],
   "source": []
  }
 ],
 "metadata": {
  "kernelspec": {
   "display_name": "Python 3 (ipykernel)",
   "language": "python",
   "name": "python3"
  },
  "language_info": {
   "codemirror_mode": {
    "name": "ipython",
    "version": 3
   },
   "file_extension": ".py",
   "mimetype": "text/x-python",
   "name": "python",
   "nbconvert_exporter": "python",
   "pygments_lexer": "ipython3",
   "version": "3.9.12"
  }
 },
 "nbformat": 4,
 "nbformat_minor": 5
}
