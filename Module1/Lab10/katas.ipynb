{
 "cells": [
  {
   "cell_type": "code",
   "execution_count": 1,
   "id": "090a2893",
   "metadata": {},
   "outputs": [],
   "source": [
    "sheep = [True,  True,  True,  False,\n",
    "          True,  True,  True,  True ,\n",
    "          True,  False, True,  False,\n",
    "          True,  False, False, True ,\n",
    "          True,  True,  True,  True ,\n",
    "          False, False, True,  True ];\n",
    "\n",
    "def count_sheeps(sheep):\n",
    "    counter=0\n",
    "    for i in sheep:\n",
    "        if i == True:\n",
    "            counter+=1\n",
    "    return counter"
   ]
  },
  {
   "cell_type": "code",
   "execution_count": 2,
   "id": "1d53b234",
   "metadata": {},
   "outputs": [
    {
     "data": {
      "text/plain": [
       "17"
      ]
     },
     "execution_count": 2,
     "metadata": {},
     "output_type": "execute_result"
    }
   ],
   "source": [
    "count_sheeps(sheep)"
   ]
  },
  {
   "cell_type": "code",
   "execution_count": 51,
   "id": "8baf0c58",
   "metadata": {},
   "outputs": [
    {
     "name": "stdout",
     "output_type": "stream",
     "text": [
      "['Hello', 'Hello Again']\n"
     ]
    }
   ],
   "source": [
    "def remove_every_other(x):\n",
    "    list1=[]\n",
    "    for i in range(len(x)):\n",
    "        if i %2 == 0:\n",
    "            list1.append(x[i])\n",
    "    return list1"
   ]
  },
  {
   "cell_type": "code",
   "execution_count": null,
   "id": "6add8e49",
   "metadata": {},
   "outputs": [],
   "source": []
  },
  {
   "cell_type": "code",
   "execution_count": 74,
   "id": "7840d501",
   "metadata": {},
   "outputs": [],
   "source": [
    "def digitize(n):\n",
    "    n2=str(n)\n",
    "    l=list(n2)\n",
    "    l.reverse()\n",
    "    li = []\n",
    "    for i in l:\n",
    "        li.append(int(i))\n",
    "    return li"
   ]
  },
  {
   "cell_type": "code",
   "execution_count": null,
   "id": "1fc8e7a5",
   "metadata": {},
   "outputs": [],
   "source": []
  },
  {
   "cell_type": "code",
   "execution_count": 102,
   "id": "354a2373",
   "metadata": {},
   "outputs": [
    {
     "data": {
      "text/plain": [
       "818181"
      ]
     },
     "execution_count": 102,
     "metadata": {},
     "output_type": "execute_result"
    }
   ],
   "source": [
    "def square_digits(n):\n",
    "    n2=str(n)\n",
    "    l=list(n2)\n",
    "    li = []\n",
    "    for i in l:\n",
    "        li.append(str(int(i)**2))\n",
    "        s = ''.join(li)\n",
    "    return int(s)\n",
    "\n",
    "square_digits(999)\n",
    "\n"
   ]
  },
  {
   "cell_type": "code",
   "execution_count": null,
   "id": "15ccf819",
   "metadata": {},
   "outputs": [],
   "source": [
    "def count_spec_digits(integers_list, digits_list):\n",
    "        result = []\n",
    "        str_list = ''.join(str(i) for i in integers_list)\n",
    "        for digit in digits_list:\n",
    "            result.append((digit, str_list.count(str(digit))))\n",
    "        return result"
   ]
  }
 ],
 "metadata": {
  "kernelspec": {
   "display_name": "Python 3 (ipykernel)",
   "language": "python",
   "name": "python3"
  },
  "language_info": {
   "codemirror_mode": {
    "name": "ipython",
    "version": 3
   },
   "file_extension": ".py",
   "mimetype": "text/x-python",
   "name": "python",
   "nbconvert_exporter": "python",
   "pygments_lexer": "ipython3",
   "version": "3.9.12"
  }
 },
 "nbformat": 4,
 "nbformat_minor": 5
}
