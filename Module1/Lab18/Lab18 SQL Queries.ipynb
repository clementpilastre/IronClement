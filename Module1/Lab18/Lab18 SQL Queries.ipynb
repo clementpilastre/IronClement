{
 "cells": [
  {
   "cell_type": "markdown",
   "id": "85070ef8",
   "metadata": {},
   "source": [
    "**1. What are the different genres?**"
   ]
  },
  {
   "cell_type": "code",
   "execution_count": null,
   "id": "83afafa7",
   "metadata": {},
   "outputs": [],
   "source": [
    "select prime_genre from applestore\n",
    "group by prime_genre;"
   ]
  },
  {
   "cell_type": "code",
   "execution_count": null,
   "id": "b503b400",
   "metadata": {},
   "outputs": [],
   "source": [
    "Answer from the previous query:\n",
    "\n",
    "Weather\n",
    "Utilities\n",
    "Travel\n",
    "Sports\n",
    "Social Networking\n",
    "Shopping\n",
    "Reference\n",
    "Productivity\n",
    "Photo & Video\n",
    "News\n",
    "Navigation\n",
    "Music"
   ]
  },
  {
   "cell_type": "markdown",
   "id": "bc20dfc5",
   "metadata": {},
   "source": [
    "**2. Which is the genre with the most apps rated?**"
   ]
  },
  {
   "cell_type": "code",
   "execution_count": null,
   "id": "f711414c",
   "metadata": {},
   "outputs": [],
   "source": [
    "select prime_genre from applestore\n",
    "group by prime_genre\n",
    "order by rating_count_tot DESC"
   ]
  },
  {
   "cell_type": "code",
   "execution_count": null,
   "id": "ad1b48f3",
   "metadata": {},
   "outputs": [],
   "source": [
    "Answer from the previous query:\n",
    "\n",
    "Social Networking"
   ]
  },
  {
   "cell_type": "markdown",
   "id": "49699acd",
   "metadata": {},
   "source": [
    "**3. Which is the genre with most apps?**"
   ]
  },
  {
   "cell_type": "code",
   "execution_count": null,
   "id": "b7b7739a",
   "metadata": {},
   "outputs": [],
   "source": [
    "select prime_genre, count(track_name) from applestore\n",
    "group by prime_genre\n",
    "order by count(track_name) DESC;"
   ]
  },
  {
   "cell_type": "code",
   "execution_count": null,
   "id": "1b848edb",
   "metadata": {},
   "outputs": [],
   "source": [
    "Answer from the previous query:\n",
    "\n",
    "Games"
   ]
  },
  {
   "cell_type": "markdown",
   "id": "4d20d180",
   "metadata": {},
   "source": [
    "**4. Which is the one with least?**"
   ]
  },
  {
   "cell_type": "code",
   "execution_count": null,
   "id": "6e0db5ca",
   "metadata": {},
   "outputs": [],
   "source": [
    "select prime_genre, count(track_name) from applestore\n",
    "group by prime_genre\n",
    "order by count(track_name) ASC;"
   ]
  },
  {
   "cell_type": "code",
   "execution_count": null,
   "id": "c91a3ad2",
   "metadata": {},
   "outputs": [],
   "source": [
    "Answer from the previous query:\n",
    "    \n",
    "Medical"
   ]
  },
  {
   "cell_type": "markdown",
   "id": "6214c94d",
   "metadata": {},
   "source": [
    "**5. Find the top 10 apps most rated.**"
   ]
  },
  {
   "cell_type": "code",
   "execution_count": null,
   "id": "d937cc3a",
   "metadata": {},
   "outputs": [],
   "source": [
    "select track_name from applestore\n",
    "order by rating_count_tot DESC\n",
    "LIMIT 10;"
   ]
  },
  {
   "cell_type": "code",
   "execution_count": null,
   "id": "00db61c9",
   "metadata": {},
   "outputs": [],
   "source": [
    "Answer from the previous query:\n",
    "\n",
    "Facebook\n",
    "Pandora - Music & Radio\n",
    "Pinterest\n",
    "Bible\n",
    "Angry Birds\n",
    "Fruit Ninja Classic\n",
    "Solitaire\n",
    "PAC-MAN\n",
    "Calorie Counter & Diet Tracker by MyFitnessPal\n",
    "The Weather Channel: Forecast, Radar & Alerts"
   ]
  },
  {
   "cell_type": "markdown",
   "id": "cb69057a",
   "metadata": {},
   "source": [
    "**6. Find the top 10 apps best rated by users.**"
   ]
  },
  {
   "cell_type": "code",
   "execution_count": null,
   "id": "fa0094f0",
   "metadata": {},
   "outputs": [],
   "source": [
    "select track_name from applestore\n",
    "order by user_rating DESC\n",
    "LIMIT 10;"
   ]
  },
  {
   "cell_type": "code",
   "execution_count": null,
   "id": "6568efef",
   "metadata": {},
   "outputs": [],
   "source": [
    "The Photographer's Ephemeris\n",
    "J&J Official 7 Minute Workout\n",
    "Daily Audio Bible App\n",
    "Plants vs. Zombies\n",
    "Learn English quickly with MosaLingua\n",
    "Domino's Pizza USA\n",
    "Kurumaki Calendar -month scroll calendar-\n",
    "Fragment's Note\n",
    "Dragon Island Blue\n",
    "TurboScan Pro - document & receipt scanner: scan multiple pages and photos to PDF"
   ]
  },
  {
   "cell_type": "markdown",
   "id": "bc4aa086",
   "metadata": {},
   "source": [
    "**7. Take a look at the data you retrieved in question 5. Give some insights.**"
   ]
  },
  {
   "cell_type": "markdown",
   "id": "70014b7a",
   "metadata": {},
   "source": [
    "We can see that the most rated apps are the ones that are very popular and with some well known brand name "
   ]
  },
  {
   "cell_type": "markdown",
   "id": "cb5c1b52",
   "metadata": {},
   "source": [
    "**8. Take a look at the data you retrieved in question 6. Give some insights.**"
   ]
  },
  {
   "cell_type": "markdown",
   "id": "1bf23d76",
   "metadata": {},
   "source": [
    "On the other hand this time except Plants vs. Zombies or Domino's Pizza, the other are anonymous"
   ]
  },
  {
   "cell_type": "markdown",
   "id": "670abb61",
   "metadata": {},
   "source": [
    "**9. Now compare the data from questions 5 and 6. What do you see?**"
   ]
  },
  {
   "cell_type": "markdown",
   "id": "07869a3a",
   "metadata": {},
   "source": [
    "Comaparing the two results, we can see that between the most rated and the best rated there is no correlation and considering the result the \"best rated\" category might be lacking a base number of total rating to be relevant"
   ]
  },
  {
   "cell_type": "markdown",
   "id": "62d99ee7",
   "metadata": {},
   "source": [
    "**10. How could you take the top 3 regarding both user ratings and number of votes?**"
   ]
  },
  {
   "cell_type": "code",
   "execution_count": null,
   "id": "af7a8b02",
   "metadata": {},
   "outputs": [],
   "source": [
    "SELECT prime_genre, track_name, user_rating, rating_count_tot from applestore\n",
    "ORDER BY user_rating DESC, rating_count_tot DESC\n",
    "LIMIT 3;"
   ]
  },
  {
   "cell_type": "markdown",
   "id": "e57b394a",
   "metadata": {},
   "source": [
    "**11. Do people care about the price of an app?** Do some queries, comment why are you doing them and the results you retrieve. What is your conclusion?"
   ]
  },
  {
   "cell_type": "code",
   "execution_count": null,
   "id": "f5349f9f",
   "metadata": {},
   "outputs": [],
   "source": [
    "Considering the data it's hard to say that people care about the prices of apps because within top 10 the most-rated apps there is only one app which is not paying.\n",
    "\n",
    "On the other hand if your app is too expensive, people do seem to start caring more \n",
    "\n"
   ]
  },
  {
   "cell_type": "code",
   "execution_count": null,
   "id": "736d3fe5",
   "metadata": {},
   "outputs": [],
   "source": [
    "select AVG(user_rating), Sum(rating_count_tot) from applestore\n",
    "where price  < 5 AND price > 0;\n",
    "\n",
    "select AVG(user_rating), Sum(rating_count_tot) from applestore\n",
    "where price  < 10 AND price >= 5;\n",
    "\n",
    "select AVG(user_rating), Sum(rating_count_tot) from applestore\n",
    "where price  >= 10;"
   ]
  }
 ],
 "metadata": {
  "kernelspec": {
   "display_name": "Python 3 (ipykernel)",
   "language": "python",
   "name": "python3"
  },
  "language_info": {
   "codemirror_mode": {
    "name": "ipython",
    "version": 3
   },
   "file_extension": ".py",
   "mimetype": "text/x-python",
   "name": "python",
   "nbconvert_exporter": "python",
   "pygments_lexer": "ipython3",
   "version": "3.9.12"
  }
 },
 "nbformat": 4,
 "nbformat_minor": 5
}
