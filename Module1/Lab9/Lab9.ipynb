{
 "cells": [
  {
   "cell_type": "markdown",
   "metadata": {},
   "source": [
    "# Loops\n",
    "\n",
    "Complete the following set of exercises to solidify your knowledge for Loops."
   ]
  },
  {
   "cell_type": "markdown",
   "metadata": {},
   "source": [
    "#### 1. Print first 10 natural numbers using while loop"
   ]
  },
  {
   "cell_type": "code",
   "execution_count": 17,
   "metadata": {},
   "outputs": [
    {
     "name": "stdout",
     "output_type": "stream",
     "text": [
      "1\n",
      "2\n",
      "3\n",
      "4\n",
      "5\n",
      "6\n",
      "7\n",
      "8\n",
      "9\n",
      "10\n"
     ]
    }
   ],
   "source": [
    "i=1\n",
    "while i < 11:\n",
    "    print(i)\n",
    "    i += 1"
   ]
  },
  {
   "cell_type": "markdown",
   "metadata": {},
   "source": [
    "#### 2. Display numbers from a list using loop\n",
    "Write a program to display only those numbers from a list that satisfy the following conditions\n",
    "\n",
    "The number must be divisible by five\n",
    "\n",
    "If the number is greater than 150, then skip it and move to the next number\n",
    "\n",
    "If the number is greater than 500, then stop the loop\n",
    "\n",
    "numbers = [12, 75, 150, 180, 145, 525, 50]"
   ]
  },
  {
   "cell_type": "code",
   "execution_count": 34,
   "metadata": {},
   "outputs": [
    {
     "name": "stdout",
     "output_type": "stream",
     "text": [
      "75\n",
      "150\n",
      "145\n",
      "50\n"
     ]
    }
   ],
   "source": [
    "numbers = [12, 75, 150, 180, 145, 525, 50]\n",
    "for x in numbers:\n",
    "    if x > 150:\n",
    "        continue\n",
    "    elif x % 5 == 0:\n",
    "        print(x)\n",
    "        if x > 500:\n",
    "            break\n",
    "            "
   ]
  },
  {
   "cell_type": "code",
   "execution_count": 44,
   "metadata": {},
   "outputs": [
    {
     "name": "stdout",
     "output_type": "stream",
     "text": [
      "75\n",
      "150\n",
      "145\n"
     ]
    }
   ],
   "source": [
    "numbers = [12, 75, 150, 180, 145, 525, 50]\n",
    "for x in numbers:\n",
    "    if x % 5 == 0:\n",
    "        if x > 500:\n",
    "            break\n",
    "        if x > 150:\n",
    "            continue  \n",
    "        print(x)"
   ]
  },
  {
   "cell_type": "markdown",
   "metadata": {},
   "source": [
    "#### 3.Write a Python program to check the validity of a password (input from users).\n",
    "\n",
    "Validation :\n",
    "\n",
    "At least 1 letter between [a-z] and 1 letter between [A-Z].\n",
    "\n",
    "At least 1 number between [0-9].\n",
    "\n",
    "At least 1 character from [$#@].\n",
    "\n",
    "Minimum length 6 characters.\n",
    "\n",
    "Maximum length 16 characters."
   ]
  },
  {
   "cell_type": "code",
   "execution_count": 50,
   "metadata": {},
   "outputs": [
    {
     "name": "stdout",
     "output_type": "stream",
     "text": [
      "Please input a passeword between 6 and 16 characters containing at least: a letter between, an upperase letter, a number between [0-9] and at least 1 character from [$#@]hjhfguytfytff\n",
      "Not a Valid Password\n"
     ]
    }
   ],
   "source": [
    "import re\n",
    "\n",
    "pwd=input(\"Please input a passeword between 6 and 16 characters containing at least: a letter between, an upperase letter, a number between [0-9] and at least 1 character from [$#@]\")\n",
    "x = True\n",
    "\n",
    "while x:  \n",
    "    if (len(pwd)<6 or len(pwd)>16):\n",
    "        break\n",
    "    elif not re.search(\"[a-z]\",pwd):\n",
    "        break\n",
    "    elif not re.search(\"[0-9]\",pwd):\n",
    "        break\n",
    "    elif not re.search(\"[A-Z]\",pwd):\n",
    "        break\n",
    "    elif not re.search(\"[$#@]\",pwd):\n",
    "        break\n",
    "    elif re.search(\"\\s\",pwd):\n",
    "        break\n",
    "    else:\n",
    "        print(\"Valid Password\")\n",
    "        x=False\n",
    "        break\n",
    "\n",
    "if x:\n",
    "    print(\"Not a Valid Password\")"
   ]
  },
  {
   "cell_type": "markdown",
   "metadata": {},
   "source": [
    "#### 4. Break the loop when x is 6, and see what happens with the else block"
   ]
  },
  {
   "cell_type": "code",
   "execution_count": 63,
   "metadata": {},
   "outputs": [
    {
     "name": "stdout",
     "output_type": "stream",
     "text": [
      "test\n",
      "test\n",
      "test\n",
      "test\n",
      "test\n",
      "test\n"
     ]
    }
   ],
   "source": [
    "i=0\n",
    "for x in range (15):\n",
    "    if x == 6:\n",
    "        break\n",
    "    else:\n",
    "        print(\"test\")\n",
    "    i+=1\n",
    "    \n",
    "#instead of goign through the 15 iterations, with break we only go up to 6 iterations"
   ]
  },
  {
   "cell_type": "markdown",
   "metadata": {},
   "source": [
    "#### 5. Write a Python program to calculate the sum and average of n integer numbers (input from the user). Input 0 to finish.\n"
   ]
  },
  {
   "cell_type": "code",
   "execution_count": 83,
   "metadata": {},
   "outputs": [
    {
     "name": "stdout",
     "output_type": "stream",
     "text": [
      "please type in a number: 5\n",
      "if you wish to start please type 0 otherwise input any other digit to continue5\n",
      "please type in a number: 5\n",
      "if you wish to start please type 0 otherwise input any other digit to continue0\n",
      "result: sum is 10, mean is 5.0\n"
     ]
    }
   ],
   "source": [
    "numlist=[]\n",
    "a = True\n",
    "\n",
    "while a==True:\n",
    "    num=int(input(\"please type in a number: \"))\n",
    "    numlist.append(num)\n",
    "    b=int(input(\"if you wish to start please type 0 otherwise input any other digit to continue\"))\n",
    "    if b == 0:\n",
    "        a=False\n",
    "    else:\n",
    "        continue\n",
    "    \n",
    "numsum = int()\n",
    "\n",
    "for n in numlist:\n",
    "    numsum += n\n",
    "\n",
    "nummean = (numsum/(len(numlist)))\n",
    "\n",
    "print(f'result: sum is {numsum}, mean is {nummean}')"
   ]
  },
  {
   "cell_type": "code",
   "execution_count": null,
   "metadata": {},
   "outputs": [],
   "source": []
  },
  {
   "cell_type": "code",
   "execution_count": null,
   "metadata": {},
   "outputs": [],
   "source": []
  }
 ],
 "metadata": {
  "kernelspec": {
   "display_name": "Python 3 (ipykernel)",
   "language": "python",
   "name": "python3"
  },
  "language_info": {
   "codemirror_mode": {
    "name": "ipython",
    "version": 3
   },
   "file_extension": ".py",
   "mimetype": "text/x-python",
   "name": "python",
   "nbconvert_exporter": "python",
   "pygments_lexer": "ipython3",
   "version": "3.9.12"
  }
 },
 "nbformat": 4,
 "nbformat_minor": 2
}
