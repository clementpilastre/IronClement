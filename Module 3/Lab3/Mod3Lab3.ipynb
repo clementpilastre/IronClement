{
 "cells": [
  {
   "cell_type": "code",
   "execution_count": 100,
   "id": "123a9844",
   "metadata": {},
   "outputs": [],
   "source": [
    "import pandas as pd\n",
    "import numpy as np\n",
    "import seaborn as sns\n",
    "import matplotlib.pyplot as plt"
   ]
  },
  {
   "cell_type": "code",
   "execution_count": 63,
   "id": "714a382c",
   "metadata": {},
   "outputs": [
    {
     "data": {
      "text/html": [
       "<div>\n",
       "<style scoped>\n",
       "    .dataframe tbody tr th:only-of-type {\n",
       "        vertical-align: middle;\n",
       "    }\n",
       "\n",
       "    .dataframe tbody tr th {\n",
       "        vertical-align: top;\n",
       "    }\n",
       "\n",
       "    .dataframe thead th {\n",
       "        text-align: right;\n",
       "    }\n",
       "</style>\n",
       "<table border=\"1\" class=\"dataframe\">\n",
       "  <thead>\n",
       "    <tr style=\"text-align: right;\">\n",
       "      <th></th>\n",
       "      <th>sepal_length_cm</th>\n",
       "      <th>sepal_width_cm</th>\n",
       "      <th>petal_length_cm</th>\n",
       "      <th>petal_width_cm</th>\n",
       "      <th>class</th>\n",
       "    </tr>\n",
       "  </thead>\n",
       "  <tbody>\n",
       "    <tr>\n",
       "      <th>0</th>\n",
       "      <td>5.1</td>\n",
       "      <td>3.5</td>\n",
       "      <td>1.4</td>\n",
       "      <td>0.2</td>\n",
       "      <td>Iris-setosa</td>\n",
       "    </tr>\n",
       "    <tr>\n",
       "      <th>1</th>\n",
       "      <td>4.9</td>\n",
       "      <td>3.0</td>\n",
       "      <td>1.4</td>\n",
       "      <td>0.2</td>\n",
       "      <td>Iris-setosa</td>\n",
       "    </tr>\n",
       "    <tr>\n",
       "      <th>2</th>\n",
       "      <td>4.7</td>\n",
       "      <td>3.2</td>\n",
       "      <td>1.3</td>\n",
       "      <td>0.2</td>\n",
       "      <td>Iris-setosa</td>\n",
       "    </tr>\n",
       "    <tr>\n",
       "      <th>3</th>\n",
       "      <td>4.6</td>\n",
       "      <td>3.1</td>\n",
       "      <td>1.5</td>\n",
       "      <td>0.2</td>\n",
       "      <td>Iris-setosa</td>\n",
       "    </tr>\n",
       "    <tr>\n",
       "      <th>4</th>\n",
       "      <td>5.0</td>\n",
       "      <td>3.6</td>\n",
       "      <td>1.4</td>\n",
       "      <td>0.2</td>\n",
       "      <td>Iris-setosa</td>\n",
       "    </tr>\n",
       "    <tr>\n",
       "      <th>...</th>\n",
       "      <td>...</td>\n",
       "      <td>...</td>\n",
       "      <td>...</td>\n",
       "      <td>...</td>\n",
       "      <td>...</td>\n",
       "    </tr>\n",
       "    <tr>\n",
       "      <th>145</th>\n",
       "      <td>6.7</td>\n",
       "      <td>3.0</td>\n",
       "      <td>5.2</td>\n",
       "      <td>2.3</td>\n",
       "      <td>Iris-virginica</td>\n",
       "    </tr>\n",
       "    <tr>\n",
       "      <th>146</th>\n",
       "      <td>6.3</td>\n",
       "      <td>2.5</td>\n",
       "      <td>5.0</td>\n",
       "      <td>2.3</td>\n",
       "      <td>Iris-virginica</td>\n",
       "    </tr>\n",
       "    <tr>\n",
       "      <th>147</th>\n",
       "      <td>6.5</td>\n",
       "      <td>3.0</td>\n",
       "      <td>5.2</td>\n",
       "      <td>2.0</td>\n",
       "      <td>Iris-virginica</td>\n",
       "    </tr>\n",
       "    <tr>\n",
       "      <th>148</th>\n",
       "      <td>6.2</td>\n",
       "      <td>3.4</td>\n",
       "      <td>5.4</td>\n",
       "      <td>2.3</td>\n",
       "      <td>Iris-virginica</td>\n",
       "    </tr>\n",
       "    <tr>\n",
       "      <th>149</th>\n",
       "      <td>5.9</td>\n",
       "      <td>3.0</td>\n",
       "      <td>5.1</td>\n",
       "      <td>1.8</td>\n",
       "      <td>Iris-virginica</td>\n",
       "    </tr>\n",
       "  </tbody>\n",
       "</table>\n",
       "<p>150 rows × 5 columns</p>\n",
       "</div>"
      ],
      "text/plain": [
       "     sepal_length_cm  sepal_width_cm  petal_length_cm  petal_width_cm  \\\n",
       "0                5.1             3.5              1.4             0.2   \n",
       "1                4.9             3.0              1.4             0.2   \n",
       "2                4.7             3.2              1.3             0.2   \n",
       "3                4.6             3.1              1.5             0.2   \n",
       "4                5.0             3.6              1.4             0.2   \n",
       "..               ...             ...              ...             ...   \n",
       "145              6.7             3.0              5.2             2.3   \n",
       "146              6.3             2.5              5.0             2.3   \n",
       "147              6.5             3.0              5.2             2.0   \n",
       "148              6.2             3.4              5.4             2.3   \n",
       "149              5.9             3.0              5.1             1.8   \n",
       "\n",
       "              class  \n",
       "0       Iris-setosa  \n",
       "1       Iris-setosa  \n",
       "2       Iris-setosa  \n",
       "3       Iris-setosa  \n",
       "4       Iris-setosa  \n",
       "..              ...  \n",
       "145  Iris-virginica  \n",
       "146  Iris-virginica  \n",
       "147  Iris-virginica  \n",
       "148  Iris-virginica  \n",
       "149  Iris-virginica  \n",
       "\n",
       "[150 rows x 5 columns]"
      ]
     },
     "execution_count": 63,
     "metadata": {},
     "output_type": "execute_result"
    }
   ],
   "source": [
    "iris=pd.read_csv(r'C:\\Users\\cleme\\Desktop\\IronHack\\DAFT_1022\\module_3\\Lab_3_Data-Cleaning-Challenge\\iris-data.csv')\n",
    "iris"
   ]
  },
  {
   "cell_type": "markdown",
   "id": "261f4aaf",
   "metadata": {},
   "source": [
    "# Data Exploration"
   ]
  },
  {
   "cell_type": "code",
   "execution_count": 64,
   "id": "5d6c95b8",
   "metadata": {},
   "outputs": [
    {
     "data": {
      "text/plain": [
       "sepal_length_cm    float64\n",
       "sepal_width_cm     float64\n",
       "petal_length_cm    float64\n",
       "petal_width_cm     float64\n",
       "class               object\n",
       "dtype: object"
      ]
     },
     "execution_count": 64,
     "metadata": {},
     "output_type": "execute_result"
    }
   ],
   "source": [
    "iris.dtypes"
   ]
  },
  {
   "cell_type": "code",
   "execution_count": 93,
   "id": "e18550fa",
   "metadata": {},
   "outputs": [
    {
     "data": {
      "text/plain": [
       "(150, 5)"
      ]
     },
     "execution_count": 93,
     "metadata": {},
     "output_type": "execute_result"
    }
   ],
   "source": [
    "iris.shape"
   ]
  },
  {
   "cell_type": "code",
   "execution_count": 66,
   "id": "9e1446bb",
   "metadata": {},
   "outputs": [
    {
     "data": {
      "text/plain": [
       "sepal_length_cm    0\n",
       "sepal_width_cm     0\n",
       "petal_length_cm    0\n",
       "petal_width_cm     5\n",
       "class              0\n",
       "dtype: int64"
      ]
     },
     "execution_count": 66,
     "metadata": {},
     "output_type": "execute_result"
    }
   ],
   "source": [
    "iris.isna().sum()"
   ]
  },
  {
   "cell_type": "code",
   "execution_count": 67,
   "id": "a45b214a",
   "metadata": {},
   "outputs": [],
   "source": [
    "#only 5 missing values for now"
   ]
  },
  {
   "cell_type": "code",
   "execution_count": 68,
   "id": "fc94992b",
   "metadata": {},
   "outputs": [
    {
     "data": {
      "text/plain": [
       "<AxesSubplot:>"
      ]
     },
     "execution_count": 68,
     "metadata": {},
     "output_type": "execute_result"
    },
    {
     "data": {
      "image/png": "[encoded data removed]",
      "text/plain": [
       "<Figure size 432x288 with 1 Axes>"
      ]
     },
     "metadata": {
      "needs_background": "light"
     },
     "output_type": "display_data"
    }
   ],
   "source": [
    "iris.boxplot(column='sepal_length_cm')"
   ]
  },
  {
   "cell_type": "code",
   "execution_count": null,
   "id": "b0788f03",
   "metadata": {},
   "outputs": [],
   "source": []
  },
  {
   "cell_type": "code",
   "execution_count": 69,
   "id": "b6e3f28f",
   "metadata": {},
   "outputs": [
    {
     "data": {
      "text/plain": [
       "7.900     1\n",
       "7.700     3\n",
       "7.600     1\n",
       "7.400     1\n",
       "7.300     1\n",
       "7.200     3\n",
       "7.100     1\n",
       "7.000     1\n",
       "6.900     4\n",
       "6.800     3\n",
       "6.700     7\n",
       "6.600     2\n",
       "6.500     5\n",
       "6.400     7\n",
       "6.300     9\n",
       "6.200     4\n",
       "6.100     6\n",
       "6.000     5\n",
       "5.900     3\n",
       "5.800     7\n",
       "5.700     8\n",
       "5.600     7\n",
       "5.500     5\n",
       "5.400     6\n",
       "5.300     1\n",
       "5.200     4\n",
       "5.100     9\n",
       "5.000    10\n",
       "4.900     6\n",
       "4.800     5\n",
       "4.700     2\n",
       "4.600     4\n",
       "4.500     1\n",
       "4.400     3\n",
       "0.067     1\n",
       "0.060     1\n",
       "0.057     1\n",
       "0.055     2\n",
       "Name: sepal_length_cm, dtype: int64"
      ]
     },
     "execution_count": 69,
     "metadata": {},
     "output_type": "execute_result"
    }
   ],
   "source": [
    "iris['sepal_length_cm'].value_counts().sort_index(ascending=False)"
   ]
  },
  {
   "cell_type": "code",
   "execution_count": 70,
   "id": "d879885b",
   "metadata": {},
   "outputs": [],
   "source": [
    "#We are told that the data set is in the expected range, but in total we have 5 values that are outliers"
   ]
  },
  {
   "cell_type": "code",
   "execution_count": 71,
   "id": "fa4b35ae",
   "metadata": {},
   "outputs": [],
   "source": [
    "#Even without missing values we will explore the data in the descriptive \"class\" column \n",
    "#to make sure everything is spelled the same"
   ]
  },
  {
   "cell_type": "code",
   "execution_count": 72,
   "id": "6f0a6d9f",
   "metadata": {},
   "outputs": [
    {
     "data": {
      "text/plain": [
       "Iris-virginica     50\n",
       "Iris-setosa        49\n",
       "Iris-versicolor    45\n",
       "versicolor          5\n",
       "Iris-setossa        1\n",
       "Name: class, dtype: int64"
      ]
     },
     "execution_count": 72,
     "metadata": {},
     "output_type": "execute_result"
    }
   ],
   "source": [
    "iris['class'].value_counts()"
   ]
  },
  {
   "cell_type": "code",
   "execution_count": 73,
   "id": "cc8e9ed0",
   "metadata": {},
   "outputs": [],
   "source": [
    "#we can now see that we have 6 rows with incorrect spelling"
   ]
  },
  {
   "cell_type": "markdown",
   "id": "0b8c9b0e",
   "metadata": {},
   "source": [
    "# Data Cleaning"
   ]
  },
  {
   "cell_type": "code",
   "execution_count": 74,
   "id": "0aee0923",
   "metadata": {},
   "outputs": [],
   "source": [
    "iris.update(iris.loc[iris['sepal_length_cm']< 0.1, ['sepal_length_cm']] * 100)"
   ]
  },
  {
   "cell_type": "code",
   "execution_count": 75,
   "id": "97eed87e",
   "metadata": {},
   "outputs": [
    {
     "data": {
      "text/plain": [
       "<AxesSubplot:>"
      ]
     },
     "execution_count": 75,
     "metadata": {},
     "output_type": "execute_result"
    },
    {
     "data": {
      "image/png": "[encoded data removed]",
      "text/plain": [
       "<Figure size 432x288 with 1 Axes>"
      ]
     },
     "metadata": {
      "needs_background": "light"
     },
     "output_type": "display_data"
    }
   ],
   "source": [
    "iris.boxplot(column='sepal_length_cm')"
   ]
  },
  {
   "cell_type": "code",
   "execution_count": 76,
   "id": "00212898",
   "metadata": {},
   "outputs": [],
   "source": [
    "#The repartition now looks correct"
   ]
  },
  {
   "cell_type": "code",
   "execution_count": 77,
   "id": "98d92416",
   "metadata": {},
   "outputs": [
    {
     "data": {
      "text/html": [
       "<div>\n",
       "<style scoped>\n",
       "    .dataframe tbody tr th:only-of-type {\n",
       "        vertical-align: middle;\n",
       "    }\n",
       "\n",
       "    .dataframe tbody tr th {\n",
       "        vertical-align: top;\n",
       "    }\n",
       "\n",
       "    .dataframe thead th {\n",
       "        text-align: right;\n",
       "    }\n",
       "</style>\n",
       "<table border=\"1\" class=\"dataframe\">\n",
       "  <thead>\n",
       "    <tr style=\"text-align: right;\">\n",
       "      <th></th>\n",
       "      <th>sepal_length_cm</th>\n",
       "      <th>sepal_width_cm</th>\n",
       "      <th>petal_length_cm</th>\n",
       "      <th>petal_width_cm</th>\n",
       "      <th>class</th>\n",
       "    </tr>\n",
       "  </thead>\n",
       "  <tbody>\n",
       "    <tr>\n",
       "      <th>7</th>\n",
       "      <td>5.0</td>\n",
       "      <td>3.4</td>\n",
       "      <td>1.5</td>\n",
       "      <td>NaN</td>\n",
       "      <td>Iris-setosa</td>\n",
       "    </tr>\n",
       "    <tr>\n",
       "      <th>8</th>\n",
       "      <td>4.4</td>\n",
       "      <td>2.9</td>\n",
       "      <td>1.4</td>\n",
       "      <td>NaN</td>\n",
       "      <td>Iris-setosa</td>\n",
       "    </tr>\n",
       "    <tr>\n",
       "      <th>9</th>\n",
       "      <td>4.9</td>\n",
       "      <td>3.1</td>\n",
       "      <td>1.5</td>\n",
       "      <td>NaN</td>\n",
       "      <td>Iris-setosa</td>\n",
       "    </tr>\n",
       "    <tr>\n",
       "      <th>10</th>\n",
       "      <td>5.4</td>\n",
       "      <td>3.7</td>\n",
       "      <td>1.5</td>\n",
       "      <td>NaN</td>\n",
       "      <td>Iris-setosa</td>\n",
       "    </tr>\n",
       "    <tr>\n",
       "      <th>11</th>\n",
       "      <td>4.8</td>\n",
       "      <td>3.4</td>\n",
       "      <td>1.6</td>\n",
       "      <td>NaN</td>\n",
       "      <td>Iris-setosa</td>\n",
       "    </tr>\n",
       "  </tbody>\n",
       "</table>\n",
       "</div>"
      ],
      "text/plain": [
       "    sepal_length_cm  sepal_width_cm  petal_length_cm  petal_width_cm  \\\n",
       "7               5.0             3.4              1.5             NaN   \n",
       "8               4.4             2.9              1.4             NaN   \n",
       "9               4.9             3.1              1.5             NaN   \n",
       "10              5.4             3.7              1.5             NaN   \n",
       "11              4.8             3.4              1.6             NaN   \n",
       "\n",
       "          class  \n",
       "7   Iris-setosa  \n",
       "8   Iris-setosa  \n",
       "9   Iris-setosa  \n",
       "10  Iris-setosa  \n",
       "11  Iris-setosa  "
      ]
     },
     "execution_count": 77,
     "metadata": {},
     "output_type": "execute_result"
    }
   ],
   "source": [
    "iris.loc[iris['petal_width_cm'].isna()]"
   ]
  },
  {
   "cell_type": "code",
   "execution_count": 78,
   "id": "450fa52f",
   "metadata": {},
   "outputs": [],
   "source": [
    "#we can see that the missing petal width all belong to the same class, which means we can replace the missing values \n",
    "#by the mean of said class\n"
   ]
  },
  {
   "cell_type": "code",
   "execution_count": 79,
   "id": "0f329499",
   "metadata": {},
   "outputs": [
    {
     "data": {
      "text/plain": [
       "0.25"
      ]
     },
     "execution_count": 79,
     "metadata": {},
     "output_type": "execute_result"
    }
   ],
   "source": [
    "setosa_mean = np.mean(iris['petal_width_cm'][(iris['class']=='Iris-setosa')])\n",
    "setosa_mean"
   ]
  },
  {
   "cell_type": "code",
   "execution_count": 80,
   "id": "0b28ab60",
   "metadata": {},
   "outputs": [],
   "source": [
    "iris['petal_width_cm']=iris['petal_width_cm'].fillna(setosa_mean)"
   ]
  },
  {
   "cell_type": "code",
   "execution_count": 81,
   "id": "0c7a1293",
   "metadata": {},
   "outputs": [
    {
     "data": {
      "text/plain": [
       "sepal_length_cm    0\n",
       "sepal_width_cm     0\n",
       "petal_length_cm    0\n",
       "petal_width_cm     0\n",
       "class              0\n",
       "dtype: int64"
      ]
     },
     "execution_count": 81,
     "metadata": {},
     "output_type": "execute_result"
    }
   ],
   "source": [
    "iris.isna().sum()"
   ]
  },
  {
   "cell_type": "code",
   "execution_count": 82,
   "id": "96ce398d",
   "metadata": {},
   "outputs": [],
   "source": [
    "#no more missing values"
   ]
  },
  {
   "cell_type": "code",
   "execution_count": 83,
   "id": "2a60ca4e",
   "metadata": {},
   "outputs": [],
   "source": [
    "#Correction of the value in the class column"
   ]
  },
  {
   "cell_type": "code",
   "execution_count": 89,
   "id": "0e419dc4",
   "metadata": {},
   "outputs": [],
   "source": [
    "iris=iris.replace('versicolor', 'Iris-versicolor')"
   ]
  },
  {
   "cell_type": "code",
   "execution_count": 87,
   "id": "024383f0",
   "metadata": {},
   "outputs": [],
   "source": [
    "iris=iris.replace('Iris-setossa', 'Iris-setosa')"
   ]
  },
  {
   "cell_type": "code",
   "execution_count": 90,
   "id": "8ff088b8",
   "metadata": {},
   "outputs": [
    {
     "data": {
      "text/plain": [
       "Iris-setosa        50\n",
       "Iris-versicolor    50\n",
       "Iris-virginica     50\n",
       "Name: class, dtype: int64"
      ]
     },
     "execution_count": 90,
     "metadata": {},
     "output_type": "execute_result"
    }
   ],
   "source": [
    "iris['class'].value_counts()"
   ]
  },
  {
   "cell_type": "code",
   "execution_count": 92,
   "id": "f4ec259f",
   "metadata": {},
   "outputs": [],
   "source": [
    "iris.to_csv(r'C:\\Users\\cleme\\Desktop\\IronHack\\IronClement\\Module 3\\Lab3\\iris_clean.csv')"
   ]
  },
  {
   "cell_type": "code",
   "execution_count": 95,
   "id": "6ceb8319",
   "metadata": {},
   "outputs": [
    {
     "data": {
      "text/html": [
       "<div>\n",
       "<style scoped>\n",
       "    .dataframe tbody tr th:only-of-type {\n",
       "        vertical-align: middle;\n",
       "    }\n",
       "\n",
       "    .dataframe tbody tr th {\n",
       "        vertical-align: top;\n",
       "    }\n",
       "\n",
       "    .dataframe thead th {\n",
       "        text-align: right;\n",
       "    }\n",
       "</style>\n",
       "<table border=\"1\" class=\"dataframe\">\n",
       "  <thead>\n",
       "    <tr style=\"text-align: right;\">\n",
       "      <th></th>\n",
       "      <th>sepal_length_cm</th>\n",
       "      <th>sepal_width_cm</th>\n",
       "      <th>petal_length_cm</th>\n",
       "      <th>petal_width_cm</th>\n",
       "      <th>class</th>\n",
       "    </tr>\n",
       "  </thead>\n",
       "  <tbody>\n",
       "    <tr>\n",
       "      <th>0</th>\n",
       "      <td>5.1</td>\n",
       "      <td>3.5</td>\n",
       "      <td>1.4</td>\n",
       "      <td>0.2</td>\n",
       "      <td>Iris-setosa</td>\n",
       "    </tr>\n",
       "    <tr>\n",
       "      <th>1</th>\n",
       "      <td>4.9</td>\n",
       "      <td>3.0</td>\n",
       "      <td>1.4</td>\n",
       "      <td>0.2</td>\n",
       "      <td>Iris-setosa</td>\n",
       "    </tr>\n",
       "    <tr>\n",
       "      <th>2</th>\n",
       "      <td>4.7</td>\n",
       "      <td>3.2</td>\n",
       "      <td>1.3</td>\n",
       "      <td>0.2</td>\n",
       "      <td>Iris-setosa</td>\n",
       "    </tr>\n",
       "    <tr>\n",
       "      <th>3</th>\n",
       "      <td>4.6</td>\n",
       "      <td>3.1</td>\n",
       "      <td>1.5</td>\n",
       "      <td>0.2</td>\n",
       "      <td>Iris-setosa</td>\n",
       "    </tr>\n",
       "    <tr>\n",
       "      <th>4</th>\n",
       "      <td>5.0</td>\n",
       "      <td>3.6</td>\n",
       "      <td>1.4</td>\n",
       "      <td>0.2</td>\n",
       "      <td>Iris-setosa</td>\n",
       "    </tr>\n",
       "    <tr>\n",
       "      <th>...</th>\n",
       "      <td>...</td>\n",
       "      <td>...</td>\n",
       "      <td>...</td>\n",
       "      <td>...</td>\n",
       "      <td>...</td>\n",
       "    </tr>\n",
       "    <tr>\n",
       "      <th>145</th>\n",
       "      <td>6.7</td>\n",
       "      <td>3.0</td>\n",
       "      <td>5.2</td>\n",
       "      <td>2.3</td>\n",
       "      <td>Iris-virginica</td>\n",
       "    </tr>\n",
       "    <tr>\n",
       "      <th>146</th>\n",
       "      <td>6.3</td>\n",
       "      <td>2.5</td>\n",
       "      <td>5.0</td>\n",
       "      <td>2.3</td>\n",
       "      <td>Iris-virginica</td>\n",
       "    </tr>\n",
       "    <tr>\n",
       "      <th>147</th>\n",
       "      <td>6.5</td>\n",
       "      <td>3.0</td>\n",
       "      <td>5.2</td>\n",
       "      <td>2.0</td>\n",
       "      <td>Iris-virginica</td>\n",
       "    </tr>\n",
       "    <tr>\n",
       "      <th>148</th>\n",
       "      <td>6.2</td>\n",
       "      <td>3.4</td>\n",
       "      <td>5.4</td>\n",
       "      <td>2.3</td>\n",
       "      <td>Iris-virginica</td>\n",
       "    </tr>\n",
       "    <tr>\n",
       "      <th>149</th>\n",
       "      <td>5.9</td>\n",
       "      <td>3.0</td>\n",
       "      <td>5.1</td>\n",
       "      <td>1.8</td>\n",
       "      <td>Iris-virginica</td>\n",
       "    </tr>\n",
       "  </tbody>\n",
       "</table>\n",
       "<p>150 rows × 5 columns</p>\n",
       "</div>"
      ],
      "text/plain": [
       "     sepal_length_cm  sepal_width_cm  petal_length_cm  petal_width_cm  \\\n",
       "0                5.1             3.5              1.4             0.2   \n",
       "1                4.9             3.0              1.4             0.2   \n",
       "2                4.7             3.2              1.3             0.2   \n",
       "3                4.6             3.1              1.5             0.2   \n",
       "4                5.0             3.6              1.4             0.2   \n",
       "..               ...             ...              ...             ...   \n",
       "145              6.7             3.0              5.2             2.3   \n",
       "146              6.3             2.5              5.0             2.3   \n",
       "147              6.5             3.0              5.2             2.0   \n",
       "148              6.2             3.4              5.4             2.3   \n",
       "149              5.9             3.0              5.1             1.8   \n",
       "\n",
       "              class  \n",
       "0       Iris-setosa  \n",
       "1       Iris-setosa  \n",
       "2       Iris-setosa  \n",
       "3       Iris-setosa  \n",
       "4       Iris-setosa  \n",
       "..              ...  \n",
       "145  Iris-virginica  \n",
       "146  Iris-virginica  \n",
       "147  Iris-virginica  \n",
       "148  Iris-virginica  \n",
       "149  Iris-virginica  \n",
       "\n",
       "[150 rows x 5 columns]"
      ]
     },
     "execution_count": 95,
     "metadata": {},
     "output_type": "execute_result"
    }
   ],
   "source": [
    "iris"
   ]
  },
  {
   "cell_type": "markdown",
   "id": "e9200830",
   "metadata": {},
   "source": [
    "# --------Machine Learning modules-------------"
   ]
  },
  {
   "cell_type": "code",
   "execution_count": 94,
   "id": "cfd2e07f",
   "metadata": {},
   "outputs": [],
   "source": [
    "from sklearn.model_selection import train_test_split\n",
    "from pandas.plotting import parallel_coordinates\n",
    "from sklearn.tree import DecisionTreeClassifier, plot_tree\n",
    "from sklearn import metrics\n",
    "from sklearn.naive_bayes import GaussianNB\n",
    "from sklearn.discriminant_analysis import LinearDiscriminantAnalysis, QuadraticDiscriminantAnalysis\n",
    "from sklearn.neighbors import KNeighborsClassifier\n",
    "from sklearn.svm import SVC\n",
    "from sklearn.linear_model import LogisticRegression"
   ]
  },
  {
   "cell_type": "markdown",
   "id": "02d5fcf2",
   "metadata": {},
   "source": [
    "# ----------------Splitting between train set and test set------------------------"
   ]
  },
  {
   "cell_type": "code",
   "execution_count": 97,
   "id": "6dfde125",
   "metadata": {},
   "outputs": [
    {
     "name": "stdout",
     "output_type": "stream",
     "text": [
      "(150, 4)\n",
      "(150,)\n"
     ]
    }
   ],
   "source": [
    "x = iris.drop(['class'], axis=1)\n",
    "y = iris['class']\n",
    "# print(x.head())\n",
    "print(x.shape)\n",
    "# print(y.head())\n",
    "print(y.shape)"
   ]
  },
  {
   "cell_type": "code",
   "execution_count": 98,
   "id": "e3424cad",
   "metadata": {},
   "outputs": [
    {
     "name": "stdout",
     "output_type": "stream",
     "text": [
      "(90, 4)\n",
      "(90,)\n",
      "(60, 4)\n",
      "(60,)\n"
     ]
    }
   ],
   "source": [
    "x_train, x_test, y_train, y_test = train_test_split(x, y, test_size=0.4, random_state=5)\n",
    "print(x_train.shape)\n",
    "print(y_train.shape)\n",
    "print(x_test.shape)\n",
    "print(y_test.shape)"
   ]
  },
  {
   "cell_type": "code",
   "execution_count": null,
   "id": "3e1ffe29",
   "metadata": {},
   "outputs": [],
   "source": [
    "#another way to split data\n",
    "\n",
    "#from sklearn.model_selection import StratifiedKFold\n",
    "#skf = StratifiedKFold()\n",
    "#skf.get_n_splits(x, y)\n",
    "#print(skf)\n",
    "\n",
    "#for train_index, test_index in skf.split(x, y):\n",
    "#    print(\"TRAIN:\", train_index, \"TEST:\", test_index)"
   ]
  },
  {
   "cell_type": "markdown",
   "id": "fb04c91f",
   "metadata": {},
   "source": [
    "# ----------K Nearest Neighbour----------"
   ]
  },
  {
   "cell_type": "code",
   "execution_count": 101,
   "id": "814de9c5",
   "metadata": {},
   "outputs": [
    {
     "name": "stdout",
     "output_type": "stream",
     "text": [
      "------------- 1 -------------------\n",
      "[[20  0  0]\n",
      " [ 0 19  2]\n",
      " [ 0  1 18]]\n",
      "------------- 2 -------------------\n",
      "[[20  0  0]\n",
      " [ 0 20  1]\n",
      " [ 0  4 15]]\n",
      "------------- 3 -------------------\n",
      "[[20  0  0]\n",
      " [ 0 20  1]\n",
      " [ 0  0 19]]\n",
      "------------- 4 -------------------\n",
      "[[20  0  0]\n",
      " [ 0 21  0]\n",
      " [ 0  2 17]]\n",
      "------------- 5 -------------------\n",
      "[[20  0  0]\n",
      " [ 0 21  0]\n",
      " [ 0  2 17]]\n",
      "------------- 6 -------------------\n",
      "[[20  0  0]\n",
      " [ 0 21  0]\n",
      " [ 0  2 17]]\n",
      "------------- 7 -------------------\n",
      "[[20  0  0]\n",
      " [ 0 21  0]\n",
      " [ 0  0 19]]\n",
      "------------- 8 -------------------\n",
      "[[20  0  0]\n",
      " [ 0 21  0]\n",
      " [ 0  1 18]]\n",
      "------------- 9 -------------------\n",
      "[[20  0  0]\n",
      " [ 0 21  0]\n",
      " [ 0  0 19]]\n",
      "------------- 10 -------------------\n",
      "[[20  0  0]\n",
      " [ 0 21  0]\n",
      " [ 0  1 18]]\n",
      "------------- 11 -------------------\n",
      "[[20  0  0]\n",
      " [ 0 21  0]\n",
      " [ 0  0 19]]\n",
      "------------- 12 -------------------\n",
      "[[20  0  0]\n",
      " [ 0 21  0]\n",
      " [ 0  1 18]]\n",
      "------------- 13 -------------------\n",
      "[[20  0  0]\n",
      " [ 0 21  0]\n",
      " [ 0  0 19]]\n",
      "------------- 14 -------------------\n",
      "[[20  0  0]\n",
      " [ 0 21  0]\n",
      " [ 0  1 18]]\n",
      "------------- 15 -------------------\n",
      "[[20  0  0]\n",
      " [ 0 21  0]\n",
      " [ 0  0 19]]\n",
      "------------- 16 -------------------\n",
      "[[20  0  0]\n",
      " [ 0 21  0]\n",
      " [ 0  2 17]]\n",
      "------------- 17 -------------------\n",
      "[[20  0  0]\n",
      " [ 0 21  0]\n",
      " [ 0  1 18]]\n",
      "------------- 18 -------------------\n",
      "[[20  0  0]\n",
      " [ 0 21  0]\n",
      " [ 0  2 17]]\n",
      "------------- 19 -------------------\n",
      "[[20  0  0]\n",
      " [ 0 21  0]\n",
      " [ 0  2 17]]\n",
      "------------- 20 -------------------\n",
      "[[20  0  0]\n",
      " [ 0 21  0]\n",
      " [ 0  3 16]]\n",
      "------------- 21 -------------------\n",
      "[[20  0  0]\n",
      " [ 0 21  0]\n",
      " [ 0  2 17]]\n",
      "------------- 22 -------------------\n",
      "[[20  0  0]\n",
      " [ 0 21  0]\n",
      " [ 0  2 17]]\n",
      "------------- 23 -------------------\n",
      "[[20  0  0]\n",
      " [ 0 21  0]\n",
      " [ 0  2 17]]\n",
      "------------- 24 -------------------\n",
      "[[20  0  0]\n",
      " [ 0 21  0]\n",
      " [ 0  2 17]]\n",
      "------------- 25 -------------------\n",
      "[[20  0  0]\n",
      " [ 0 21  0]\n",
      " [ 0  2 17]]\n"
     ]
    },
    {
     "data": {
      "image/png": "[encoded data removed]",
      "text/plain": [
       "<Figure size 432x288 with 1 Axes>"
      ]
     },
     "metadata": {
      "needs_background": "light"
     },
     "output_type": "display_data"
    }
   ],
   "source": [
    "k_range = list(range(1,26))\n",
    "scores = []\n",
    "for k in k_range:\n",
    "    knn = KNeighborsClassifier(n_neighbors=k)\n",
    "    knn.fit(x_train, y_train)\n",
    "    y_pred = knn.predict(x_test)\n",
    "    scores.append(metrics.accuracy_score(y_test, y_pred))\n",
    "    print ('-------------', k, '-------------------')\n",
    "    print(metrics.confusion_matrix(y_test, y_pred))\n",
    "    \n",
    "plt.plot(k_range, scores)\n",
    "plt.xlabel('Value of k for KNN')\n",
    "plt.ylabel('Accuracy Score')\n",
    "plt.title('Accuracy Scores for Values of k of k-Nearest-Neighbors')\n",
    "plt.show()"
   ]
  },
  {
   "cell_type": "code",
   "execution_count": null,
   "id": "5b8f173c",
   "metadata": {},
   "outputs": [],
   "source": [
    "#produces confusion matrix where we can see diagonnaly if each entrey has been classified correctly\n",
    "\n",
    "#Plus a chart where you can see for which number of groups the knn model was the most efficient/correct"
   ]
  },
  {
   "cell_type": "markdown",
   "id": "d9df8ccb",
   "metadata": {},
   "source": [
    "# ----------Decision Tree---------------"
   ]
  },
  {
   "cell_type": "code",
   "execution_count": 102,
   "id": "ceb1e024",
   "metadata": {},
   "outputs": [
    {
     "name": "stdout",
     "output_type": "stream",
     "text": [
      "The accuracy of the Decision Tree is 0.967\n"
     ]
    }
   ],
   "source": [
    "#--------Executing the decision tree model-----------\n",
    "tree = DecisionTreeClassifier(max_depth = 3, random_state = 1)\n",
    "tree.fit(x_train,y_train)\n",
    "prediction=tree.predict(x_test)\n",
    "print(\"The accuracy of the Decision Tree is\",\"{:.3f}\".format(metrics.accuracy_score(prediction,y_test)))"
   ]
  },
  {
   "cell_type": "code",
   "execution_count": 103,
   "id": "e11795be",
   "metadata": {},
   "outputs": [
    {
     "data": {
      "text/plain": [
       "array([0.        , 0.        , 0.03015096, 0.96984904])"
      ]
     },
     "execution_count": 103,
     "metadata": {},
     "output_type": "execute_result"
    }
   ],
   "source": [
    "tree.feature_importances_"
   ]
  },
  {
   "cell_type": "code",
   "execution_count": 108,
   "id": "fed33b0c",
   "metadata": {},
   "outputs": [
    {
     "data": {
      "image/png": "[encoded data removed]",
      "text/plain": [
       "<Figure size 720x576 with 1 Axes>"
      ]
     },
     "metadata": {
      "needs_background": "light"
     },
     "output_type": "display_data"
    }
   ],
   "source": [
    "#--------Plotting a graphical representation of the decision tree process-----------\n",
    "\n",
    "plt.figure(figsize = (10,8))\n",
    "fn = [\"sepal_length\", \"sepal_width\", \"petal_length\", \"petal_width\"]\n",
    "cn = ['setosa', 'versicolor', 'virginica']\n",
    "plot_tree(tree, feature_names = fn, class_names = cn, filled = True);"
   ]
  },
  {
   "cell_type": "code",
   "execution_count": 105,
   "id": "4189b0a4",
   "metadata": {},
   "outputs": [
    {
     "name": "stderr",
     "output_type": "stream",
     "text": [
      "C:\\Users\\cleme\\anaconda3\\lib\\site-packages\\sklearn\\utils\\deprecation.py:87: FutureWarning: Function plot_confusion_matrix is deprecated; Function `plot_confusion_matrix` is deprecated in 1.0 and will be removed in 1.2. Use one of the class methods: ConfusionMatrixDisplay.from_predictions or ConfusionMatrixDisplay.from_estimator.\n",
      "  warnings.warn(msg, category=FutureWarning)\n"
     ]
    },
    {
     "data": {
      "image/png": "[encoded data removed]",
      "text/plain": [
       "<Figure size 432x288 with 2 Axes>"
      ]
     },
     "metadata": {
      "needs_background": "light"
     },
     "output_type": "display_data"
    }
   ],
   "source": [
    "#--------Plotting a confusion matrix of the decision tree process-----------\n",
    "cm = metrics.plot_confusion_matrix(tree, x_test, y_test,\n",
    "                                 display_labels=cn,\n",
    "                                 cmap=plt.cm.Blues,\n",
    "                                 normalize=None)\n",
    "cm.ax_.set_title('Decision Tree Confusion matrix, without normalization');"
   ]
  },
  {
   "cell_type": "code",
   "execution_count": 109,
   "id": "1d4a84f5",
   "metadata": {},
   "outputs": [],
   "source": [
    "#--------function made to help create confusion matrix more easily-----------\n",
    "\n",
    "def generate_results(model, predictions, name):\n",
    "    cl_rep = classification_report(y_test, predictions)\n",
    "    print(\"\\nThe classification report for \" + name + \" is:\", cl_rep, sep = \"\\n\")\n",
    "    cm_model = confusion_matrix(y_test, predictions)\n",
    "    plt.figure(figsize = (8, 6))\n",
    "    sns.heatmap(cm_model, annot = True, cmap = 'Blues', annot_kws = {'size': 15}, square = True)\n",
    "    plt.title('Confusion Matrix for ' + name, size = 15)\n",
    "    plt.xticks(size = 15)\n",
    "    plt.yticks(size = 15)\n",
    "    plt.show() \n",
    "from sklearn.metrics import classification_report\n",
    "from sklearn.metrics import confusion_matrix"
   ]
  },
  {
   "cell_type": "markdown",
   "id": "5c8f6a94",
   "metadata": {},
   "source": [
    "# -------------RadiusNeighborsClassifier---------------"
   ]
  },
  {
   "cell_type": "code",
   "execution_count": 111,
   "id": "40b28a59",
   "metadata": {},
   "outputs": [
    {
     "name": "stdout",
     "output_type": "stream",
     "text": [
      "The accuracy for Radius Neighbors Classifier is: 95.0 %\n"
     ]
    }
   ],
   "source": [
    "from sklearn.neighbors import RadiusNeighborsClassifier\n",
    "rnc = RadiusNeighborsClassifier()\n",
    "rnc.fit(x_train, y_train)\n",
    "y_pred = rnc.predict(x_test)\n",
    "acc_rnc = rnc.score(x_test, y_test)\n",
    "print('The accuracy for Radius Neighbors Classifier is:', acc_rnc * 100, \"%\")"
   ]
  },
  {
   "cell_type": "code",
   "execution_count": 112,
   "id": "ced15c87",
   "metadata": {},
   "outputs": [
    {
     "name": "stdout",
     "output_type": "stream",
     "text": [
      "\n",
      "The classification report for Radius Neighbors Classifier is:\n",
      "                 precision    recall  f1-score   support\n",
      "\n",
      "    Iris-setosa       1.00      1.00      1.00        20\n",
      "Iris-versicolor       0.88      1.00      0.93        21\n",
      " Iris-virginica       1.00      0.84      0.91        19\n",
      "\n",
      "       accuracy                           0.95        60\n",
      "      macro avg       0.96      0.95      0.95        60\n",
      "   weighted avg       0.96      0.95      0.95        60\n",
      "\n"
     ]
    },
    {
     "data": {
      "image/png": "[encoded data removed]",
      "text/plain": [
       "<Figure size 576x432 with 2 Axes>"
      ]
     },
     "metadata": {
      "needs_background": "light"
     },
     "output_type": "display_data"
    }
   ],
   "source": [
    "#-------calling the earlier function to plot confusion matrix---------\n",
    "\n",
    "generate_results(rnc, y_pred, 'Radius Neighbors Classifier')"
   ]
  },
  {
   "cell_type": "markdown",
   "id": "fa19a1de",
   "metadata": {},
   "source": [
    "# ----------RandomForestClassifier----------------"
   ]
  },
  {
   "cell_type": "code",
   "execution_count": 113,
   "id": "71491087",
   "metadata": {},
   "outputs": [],
   "source": [
    "from sklearn.ensemble import RandomForestClassifier"
   ]
  },
  {
   "cell_type": "code",
   "execution_count": 114,
   "id": "6d42589e",
   "metadata": {},
   "outputs": [
    {
     "name": "stdout",
     "output_type": "stream",
     "text": [
      "The accuracy of the Random Forest Classifier is: 95.0 %\n"
     ]
    }
   ],
   "source": [
    "rfc = RandomForestClassifier()\n",
    "rfc.fit(x_train, y_train)\n",
    "y_pred = rfc.predict(x_test)\n",
    "acc_rfc = rfc.score(x_test, y_test)\n",
    "print('The accuracy of the Random Forest Classifier is:', acc_rfc * 100, '%')"
   ]
  },
  {
   "cell_type": "code",
   "execution_count": 116,
   "id": "3e23706e",
   "metadata": {},
   "outputs": [
    {
     "name": "stdout",
     "output_type": "stream",
     "text": [
      "\n",
      "The classification report for RandomForestClassifier is:\n",
      "                 precision    recall  f1-score   support\n",
      "\n",
      "    Iris-setosa       1.00      1.00      1.00        20\n",
      "Iris-versicolor       0.91      0.95      0.93        21\n",
      " Iris-virginica       0.94      0.89      0.92        19\n",
      "\n",
      "       accuracy                           0.95        60\n",
      "      macro avg       0.95      0.95      0.95        60\n",
      "   weighted avg       0.95      0.95      0.95        60\n",
      "\n"
     ]
    },
    {
     "data": {
      "image/png": "[encoded data removed]",
      "text/plain": [
       "<Figure size 576x432 with 2 Axes>"
      ]
     },
     "metadata": {
      "needs_background": "light"
     },
     "output_type": "display_data"
    }
   ],
   "source": [
    "generate_results(rfc, y_pred, 'RandomForestClassifier')"
   ]
  },
  {
   "cell_type": "markdown",
   "id": "5d54d333",
   "metadata": {},
   "source": [
    "# ----------Logistic Regression----------------"
   ]
  },
  {
   "cell_type": "code",
   "execution_count": 117,
   "id": "41cb828f",
   "metadata": {},
   "outputs": [],
   "source": [
    "#-----------------------Encoding the training and test set to be able to use logistic regression------------------------------\n",
    "from sklearn.preprocessing import StandardScaler\n",
    "sc = StandardScaler()\n",
    "x_train = sc.fit_transform(x_train)\n",
    "x_test = sc.transform(x_test)"
   ]
  },
  {
   "cell_type": "code",
   "execution_count": 122,
   "id": "78df29dd",
   "metadata": {},
   "outputs": [
    {
     "data": {
      "text/plain": [
       "LogisticRegression(random_state=0)"
      ]
     },
     "execution_count": 122,
     "metadata": {},
     "output_type": "execute_result"
    }
   ],
   "source": [
    "#--------------calling logistic regression model------------------\n",
    "\n",
    "from sklearn.linear_model import LogisticRegression\n",
    "lr = LogisticRegression(random_state = 0, solver='lbfgs', multi_class='auto')\n",
    "lr.fit(x_train, y_train)"
   ]
  },
  {
   "cell_type": "code",
   "execution_count": 123,
   "id": "8bc5ab79",
   "metadata": {},
   "outputs": [
    {
     "name": "stdout",
     "output_type": "stream",
     "text": [
      "The accuracy of the Logistic Regression is: 95.0 %\n"
     ]
    }
   ],
   "source": [
    "y_pred = lr.predict(x_test)\n",
    "# Predict probabilities\n",
    "probs_y=lr.predict_proba(x_test)\n",
    "### Print results \n",
    "probs_y = np.round(probs_y, 2)\n",
    "print('The accuracy of the Logistic Regression is:', lr.score(x_test, y_test) * 100, '%')"
   ]
  },
  {
   "cell_type": "code",
   "execution_count": 124,
   "id": "771ab72a",
   "metadata": {},
   "outputs": [
    {
     "name": "stdout",
     "output_type": "stream",
     "text": [
      "\n",
      "The classification report for Logistic Regression is:\n",
      "                 precision    recall  f1-score   support\n",
      "\n",
      "    Iris-setosa       1.00      1.00      1.00        20\n",
      "Iris-versicolor       0.91      0.95      0.93        21\n",
      " Iris-virginica       0.94      0.89      0.92        19\n",
      "\n",
      "       accuracy                           0.95        60\n",
      "      macro avg       0.95      0.95      0.95        60\n",
      "   weighted avg       0.95      0.95      0.95        60\n",
      "\n"
     ]
    },
    {
     "data": {
      "image/png": "[encoded data removed]",
      "text/plain": [
       "<Figure size 576x432 with 2 Axes>"
      ]
     },
     "metadata": {
      "needs_background": "light"
     },
     "output_type": "display_data"
    }
   ],
   "source": [
    "generate_results(lr, y_pred, 'Logistic Regression')"
   ]
  },
  {
   "cell_type": "code",
   "execution_count": null,
   "id": "418cdb12",
   "metadata": {},
   "outputs": [],
   "source": []
  }
 ],
 "metadata": {
  "kernelspec": {
   "display_name": "Python 3 (ipykernel)",
   "language": "python",
   "name": "python3"
  },
  "language_info": {
   "codemirror_mode": {
    "name": "ipython",
    "version": 3
   },
   "file_extension": ".py",
   "mimetype": "text/x-python",
   "name": "python",
   "nbconvert_exporter": "python",
   "pygments_lexer": "ipython3",
   "version": "3.9.12"
  }
 },
 "nbformat": 4,
 "nbformat_minor": 5
}
